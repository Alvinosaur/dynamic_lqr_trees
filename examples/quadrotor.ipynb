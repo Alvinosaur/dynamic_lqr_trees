{
 "cells": [
  {
   "cell_type": "markdown",
   "metadata": {},
   "source": [
    "# Quadrotor Example\n",
    "This notebook will demonstrate how to set up and solve a trajectory optimization problem for a quadrotor. In particular, it will highlight how TrajectoryOptimization.jl accounts for the group structure of 3D rotations.\n",
    "\n",
    "### Loading the Required Packages\n",
    "To define the quadrotor model, we import `RobotDynamics` and `Rotations`, and use `TrajectoryOptimization` to define the problem. We load in `StaticArrays` and `LinearAlgebra` to help with the setup."
   ]
  },
  {
   "cell_type": "code",
   "execution_count": 1,
   "metadata": {},
   "outputs": [],
   "source": [
    "# import Pkg; Pkg.activate(@__DIR__); Pkg.instantiate();"
   ]
  },
  {
   "cell_type": "code",
   "execution_count": 1,
   "metadata": {},
   "outputs": [],
   "source": [
    "using RobotDynamics, Rotations\n",
    "using TrajectoryOptimization\n",
    "using StaticArrays, LinearAlgebra"
   ]
  },
  {
   "cell_type": "markdown",
   "metadata": {},
   "source": [
    "## Creating the model\n",
    "We could use the quadrotor model defined in `RobotZoo.jl`, but instead we'll go through the details of using the `RigidBody` interface in `RobotDyanmics`.\n",
    "\n",
    "We start by defining our new `Quadrotor` type, which inherits from `RigidBody{R}`:"
   ]
  },
  {
   "cell_type": "code",
   "execution_count": 2,
   "metadata": {},
   "outputs": [],
   "source": [
    "struct Quadrotor{R} <: RigidBody{R}\n",
    "    n::Int\n",
    "    m::Int\n",
    "    mass::Float64\n",
    "    J::Diagonal{Float64,SVector{3,Float64}}\n",
    "    Jinv::Diagonal{Float64,SVector{3,Float64}}\n",
    "    gravity::SVector{3,Float64}\n",
    "    motor_dist::Float64\n",
    "    kf::Float64\n",
    "    km::Float64\n",
    "    bodyframe::Bool  # velocity in body frame?\n",
    "    info::Dict{Symbol,Any}\n",
    "end\n",
    "\n",
    "function Quadrotor{R}(;\n",
    "        mass=0.5,\n",
    "        J=Diagonal(@SVector [0.0023, 0.0023, 0.004]),\n",
    "        gravity=SVector(0,0,-9.81),\n",
    "        motor_dist=0.1750,\n",
    "        kf=1.0,\n",
    "        km=0.0245,\n",
    "        bodyframe=false,\n",
    "        info=Dict{Symbol,Any}()) where R\n",
    "    Quadrotor{R}(13,4,mass,J,inv(J),gravity,motor_dist,kf,km,bodyframe,info)\n",
    "end\n",
    "\n",
    "(::Type{Quadrotor})(;kwargs...) = Quadrotor{UnitQuaternion{Float64}}(;kwargs...)"
   ]
  },
  {
   "cell_type": "markdown",
   "metadata": {},
   "source": [
    "where `R` is the rotation parameterization being used, typically one of `UnitQuaternion{T}`, `MRP{T}`, or `RodriguesParam{T}`. \n",
    "\n",
    "We now need to define the number of control inputs:"
   ]
  },
  {
   "cell_type": "code",
   "execution_count": 3,
   "metadata": {},
   "outputs": [],
   "source": [
    "RobotDynamics.control_dim(::Quadrotor) = 4"
   ]
  },
  {
   "cell_type": "markdown",
   "metadata": {},
   "source": [
    "Now we are ready to define the dynamics of our quadrotor, which we do by simply defining the forces and moments acting on our quadrotor for a given state and control, as well as some \"getter\" methods for our inertial properties.\n",
    "\n",
    "It's important to note that the force is in the world frame, and torque is in the body frame."
   ]
  },
  {
   "cell_type": "code",
   "execution_count": 4,
   "metadata": {},
   "outputs": [],
   "source": [
    "function RobotDynamics.forces(model::Quadrotor, x, u)\n",
    "    q = orientation(model, x)\n",
    "    kf = model.kf\n",
    "    g = model.gravity\n",
    "    m = model.mass\n",
    "\n",
    "    # Extract motor speeds\n",
    "    w1 = u[1]\n",
    "    w2 = u[2]\n",
    "    w3 = u[3]\n",
    "    w4 = u[4]\n",
    "\n",
    "    # Calculate motor forces\n",
    "    F1 = max(0,kf*w1);\n",
    "    F2 = max(0,kf*w2);\n",
    "    F3 = max(0,kf*w3);\n",
    "    F4 = max(0,kf*w4);\n",
    "    F = @SVector [0., 0., F1+F2+F3+F4] #total rotor force in body frame\n",
    "\n",
    "    m*g + q*F # forces in world frame\n",
    "end\n",
    "\n",
    "function RobotDynamics.moments(model::Quadrotor, x, u)\n",
    "\n",
    "    kf, km = model.kf, model.km\n",
    "    L = model.motor_dist\n",
    "\n",
    "    # Extract motor speeds\n",
    "    w1 = u[1]\n",
    "    w2 = u[2]\n",
    "    w3 = u[3]\n",
    "    w4 = u[4]\n",
    "    \n",
    "    # Calculate motor forces\n",
    "    F1 = max(0,kf*w1);\n",
    "    F2 = max(0,kf*w2);\n",
    "    F3 = max(0,kf*w3);\n",
    "    F4 = max(0,kf*w4);\n",
    "\n",
    "    # Calculate motor torques\n",
    "    M1 = km*w1;\n",
    "    M2 = km*w2;\n",
    "    M3 = km*w3;\n",
    "    M4 = km*w4;\n",
    "    tau = @SVector [L*(F2-F4), L*(F3-F1), (M1-M2+M3-M4)] #total rotor torque in body frame\n",
    "end\n",
    "\n",
    "RobotDynamics.inertia(model::Quadrotor) = model.J\n",
    "RobotDynamics.inertia_inv(model::Quadrotor) = model.Jinv\n",
    "RobotDynamics.mass(model::Quadrotor) = model.mass"
   ]
  },
  {
   "cell_type": "markdown",
   "metadata": {},
   "source": [
    "And with that our model is defined!\n",
    "\n",
    "## Setting up our problem\n",
    "For our trajectory optimization problem, we're going to have the quadrotor do a \"zig-zag\" pattern. We can do this via objective/cost function manipulation. We start by creating our quadrotor model and defining our integration scheme:"
   ]
  },
  {
   "cell_type": "code",
   "execution_count": 5,
   "metadata": {},
   "outputs": [
    {
     "data": {
      "text/plain": [
       "0.05"
      ]
     },
     "execution_count": 5,
     "metadata": {},
     "output_type": "execute_result"
    }
   ],
   "source": [
    "# Set up model and discretization\n",
    "model = Quadrotor();\n",
    "n,m = size(model)\n",
    "N = 101                # number of knot points\n",
    "tf = 5.0               # total time (sec)\n",
    "dt = tf/(N-1)          # time step (sec)"
   ]
  },
  {
   "cell_type": "code",
   "execution_count": 6,
   "metadata": {},
   "outputs": [
    {
     "data": {
      "text/plain": [
       "(13, 4)"
      ]
     },
     "execution_count": 6,
     "metadata": {},
     "output_type": "execute_result"
    }
   ],
   "source": [
    "n,m = size(model)"
   ]
  },
  {
   "cell_type": "markdown",
   "metadata": {},
   "source": [
    "We now need to set up the initial and final conditions for our quadrotor, which we want to move 20 meters in the x-direction. We can build the state piece-by-piece using the `RobotDynamics.build_state` function."
   ]
  },
  {
   "cell_type": "code",
   "execution_count": 10,
   "metadata": {},
   "outputs": [],
   "source": [
    "# x0_pos = SA[0, -10, 1.]\n",
    "# xf_pos = SA[0, +10, 1.]\n",
    "x0_pos = SA[-7, -10, 1.]\n",
    "xf_pos = SA[5, +10, 4.]\n",
    "x0 = RobotDynamics.build_state(model, x0_pos, UnitQuaternion(I), zeros(3), zeros(3))\n",
    "xf = RobotDynamics.build_state(model, xf_pos, UnitQuaternion(I), zeros(3), zeros(3));"
   ]
  },
  {
   "cell_type": "code",
   "execution_count": 11,
   "metadata": {},
   "outputs": [
    {
     "data": {
      "text/plain": [
       "13-element SArray{Tuple{13},Float64,1,13} with indices SOneTo(13):\n",
       "  5.0\n",
       " 10.0\n",
       "  4.0\n",
       "  1.0\n",
       "  0.0\n",
       "  0.0\n",
       "  0.0\n",
       "  0.0\n",
       "  0.0\n",
       "  0.0\n",
       "  0.0\n",
       "  0.0\n",
       "  0.0"
      ]
     },
     "execution_count": 11,
     "metadata": {},
     "output_type": "execute_result"
    }
   ],
   "source": [
    "xf"
   ]
  },
  {
   "cell_type": "markdown",
   "metadata": {},
   "source": [
    "### Creating the cost function\n",
    "We now create a cost function that encourages a \"zig-zag\" pattern for the quadrotor. We set up a few waypoints at specific times, and impose a high cost for being far from those locations."
   ]
  },
  {
   "cell_type": "code",
   "execution_count": 14,
   "metadata": {},
   "outputs": [
    {
     "data": {
      "text/plain": [
       "DiagonalCost{13,4,Float64}([1.0e-5 0.0 … 0.0 0.0; 0.0 1.0e-5 … 0.0 0.0; … ; 0.0 0.0 … 0.001 0.0; 0.0 0.0 … 0.0 0.001], [0.0001 0.0 0.0 0.0; 0.0 0.0001 0.0 0.0; 0.0 0.0 0.0001 0.0; 0.0 0.0 0.0 0.0001], [-0.0, -0.0, -0.0, -1.0e-5, -0.0, -0.0, -0.0, -0.0, -0.0, -0.0, -0.0, -0.0, -0.0], [-0.0, -0.0, -0.0, -0.0], 5.0e-6, false)"
      ]
     },
     "execution_count": 14,
     "metadata": {},
     "output_type": "execute_result"
    }
   ],
   "source": [
    "# Set up waypoints\n",
    "# wpts = [SA[+10, 0, 1.],\n",
    "#         SA[-10, 0, 1.],\n",
    "#         xf_pos]\n",
    "# times = [33, 66, 101]   # in knot points\n",
    "wpts = [xf_pos]\n",
    "times = [100]\n",
    "\n",
    "# Set up nominal costs q^T x + r^T u\n",
    "# which are just zero because x_nom\n",
    "Q = Diagonal(RobotDynamics.fill_state(model, 1e-5, 1e-5, 1e-3, 1e-3))\n",
    "R = Diagonal(@SVector fill(1e-4, 4))\n",
    "q_nom = UnitQuaternion(I)\n",
    "v_nom = zeros(3)\n",
    "ω_nom = zeros(3)\n",
    "x_nom = RobotDynamics.build_state(model, zeros(3), q_nom, v_nom, ω_nom)\n",
    "cost_nom = LQRCost(Q, R, x_nom)  # u=zeros() default"
   ]
  },
  {
   "cell_type": "code",
   "execution_count": 15,
   "metadata": {},
   "outputs": [
    {
     "data": {
      "text/plain": [
       "1-element Array{DiagonalCost{13,4,Float64},1}:\n",
       " DiagonalCost{13,4,Float64}([1.0 0.0 … 0.0 0.0; 0.0 1.0 … 0.0 0.0; … ; 0.0 0.0 … 0.001 0.0; 0.0 0.0 … 0.0 0.001], [0.0001 0.0 0.0 0.0; 0.0 0.0001 0.0 0.0; 0.0 0.0 0.0001 0.0; 0.0 0.0 0.0 0.0001], [-5.0, -10.0, -4.0, -0.001, -0.0, -0.0, -0.0, -0.0, -0.0, -0.0, -0.0, -0.0, -0.0], [-0.0, -0.0, -0.0, -0.0], 70.5005, false)"
      ]
     },
     "execution_count": 15,
     "metadata": {},
     "output_type": "execute_result"
    }
   ],
   "source": [
    "# Set up waypoint costs\n",
    "Qw_diag = RobotDynamics.fill_state(model, 1e3,1,1,1)\n",
    "Qf_diag = RobotDynamics.fill_state(model, 10., 100, 10, 10)\n",
    "costs = map(1:length(wpts)) do i\n",
    "    r = wpts[i]\n",
    "    xg = RobotDynamics.build_state(model, r, q_nom, v_nom, ω_nom)\n",
    "    if times[i] == N\n",
    "        Q = Diagonal(Qf_diag)\n",
    "    else\n",
    "        Q = Diagonal(1e-3*Qw_diag)\n",
    "    end\n",
    "\n",
    "    LQRCost(Q, R, xg)\n",
    "end"
   ]
  },
  {
   "cell_type": "code",
   "execution_count": 16,
   "metadata": {},
   "outputs": [],
   "source": [
    "# Build Objective\n",
    "costs_all = map(1:N) do k\n",
    "    i = findfirst(x->(x ≥ k), times)\n",
    "    if k ∈ times\n",
    "        costs[i]\n",
    "    else\n",
    "        cost_nom\n",
    "    end\n",
    "end\n",
    "obj = Objective(costs_all);"
   ]
  },
  {
   "cell_type": "code",
   "execution_count": 17,
   "metadata": {},
   "outputs": [
    {
     "name": "stdout",
     "output_type": "stream",
     "text": [
      "[-7.0, -10.0, 1.0]"
     ]
    },
    {
     "data": {
      "text/plain": [
       "1-element Array{SArray{Tuple{3},Float64,1,3},1}:\n",
       " [5.0, 10.0, 4.0]"
      ]
     },
     "execution_count": 17,
     "metadata": {},
     "output_type": "execute_result"
    }
   ],
   "source": [
    "# Zigzag movement\n",
    "print(x0[1:3])\n",
    "wpts"
   ]
  },
  {
   "cell_type": "code",
   "execution_count": 18,
   "metadata": {},
   "outputs": [
    {
     "data": {
      "text/plain": [
       "13-element SArray{Tuple{13},Float64,1,13} with indices SOneTo(13):\n",
       " 1.0e-5\n",
       " 1.0e-5\n",
       " 1.0e-5\n",
       " 1.0e-5\n",
       " 1.0e-5\n",
       " 1.0e-5\n",
       " 1.0e-5\n",
       " 0.001\n",
       " 0.001\n",
       " 0.001\n",
       " 0.001\n",
       " 0.001\n",
       " 0.001"
      ]
     },
     "execution_count": 18,
     "metadata": {},
     "output_type": "execute_result"
    }
   ],
   "source": [
    "# [x,x,x, q,q,q,q, v,v,v, ω,ω,ω]\n",
    "RobotDynamics.fill_state(model, 1e-5, 1e-5, 1e-3, 1e-3)"
   ]
  },
  {
   "cell_type": "code",
   "execution_count": 13,
   "metadata": {},
   "outputs": [
    {
     "data": {
      "text/plain": [
       "fill_state (generic function with 2 methods)"
      ]
     },
     "execution_count": 13,
     "metadata": {},
     "output_type": "execute_result"
    }
   ],
   "source": [
    "RobotDynamics.fill_state"
   ]
  },
  {
   "cell_type": "code",
   "execution_count": null,
   "metadata": {},
   "outputs": [],
   "source": []
  },
  {
   "cell_type": "markdown",
   "metadata": {},
   "source": [
    "### Initialization\n",
    "We initialize the solver with a simple hover trajectory that keeps the quadrotor hovering at the initial position."
   ]
  },
  {
   "cell_type": "code",
   "execution_count": 19,
   "metadata": {},
   "outputs": [],
   "source": [
    "u0 = @SVector fill(0.5*model.mass/m, m)\n",
    "U_hover = [copy(u0) for k = 1:N-1]; # initial hovering control trajectory"
   ]
  },
  {
   "cell_type": "code",
   "execution_count": 15,
   "metadata": {},
   "outputs": [
    {
     "data": {
      "text/plain": [
       "4-element SArray{Tuple{4},Float64,1,4} with indices SOneTo(4):\n",
       " 0.0625\n",
       " 0.0625\n",
       " 0.0625\n",
       " 0.0625"
      ]
     },
     "execution_count": 15,
     "metadata": {},
     "output_type": "execute_result"
    }
   ],
   "source": [
    "u0"
   ]
  },
  {
   "cell_type": "markdown",
   "metadata": {},
   "source": [
    "### Constraints\n",
    "For this problem, we only impose bounds on the controls."
   ]
  },
  {
   "cell_type": "code",
   "execution_count": 20,
   "metadata": {},
   "outputs": [],
   "source": [
    "conSet = ConstraintList(n,m,N)\n",
    "bnd = BoundConstraint(n,m, u_min=0.0, u_max=12.0)\n",
    "add_constraint!(conSet, bnd, 1:N-1)"
   ]
  },
  {
   "cell_type": "code",
   "execution_count": 17,
   "metadata": {},
   "outputs": [
    {
     "name": "stdout",
     "output_type": "stream",
     "text": [
      "ConstraintList(13, 4, TrajectoryOptimization.AbstractConstraint[BoundConstraint{8,17,Float64}(13, 4, [Inf, Inf, Inf, Inf, Inf, Inf, Inf, Inf, Inf, Inf, Inf, Inf, Inf, 12.0, 12.0, 12.0, 12.0], [-Inf, -Inf, -Inf, -Inf, -Inf, -Inf, -Inf, -Inf, -Inf, -Inf, -Inf, -Inf, -Inf, 0.0, 0.0, 0.0, 0.0], [105, 114, 123, 132], [109, 118, 127, 136], [14, 15, 16, 17, 31, 32, 33, 34])], UnitRange{Int64}[1:100], [8, 8, 8, 8, 8, 8, 8, 8, 8, 8, 8, 8, 8, 8, 8, 8, 8, 8, 8, 8, 8, 8, 8, 8, 8, 8, 8, 8, 8, 8, 8, 8, 8, 8, 8, 8, 8, 8, 8, 8, 8, 8, 8, 8, 8, 8, 8, 8, 8, 8, 8, 8, 8, 8, 8, 8, 8, 8, 8, 8, 8, 8, 8, 8, 8, 8, 8, 8, 8, 8, 8, 8, 8, 8, 8, 8, 8, 8, 8, 8, 8, 8, 8, 8, 8, 8, 8, 8, 8, 8, 8, 8, 8, 8, 8, 8, 8, 8, 8, 8, 0])"
     ]
    }
   ],
   "source": [
    "print(conSet)"
   ]
  },
  {
   "cell_type": "markdown",
   "metadata": {},
   "source": [
    "### Building the Problem\n",
    "We now build the trajectory optimization problem, providing a dynamically-feasible initialization."
   ]
  },
  {
   "cell_type": "code",
   "execution_count": 23,
   "metadata": {},
   "outputs": [],
   "source": [
    "prob = Problem(model, obj, xf, tf, x0=x0, constraints=conSet)\n",
    "initial_controls!(prob, U_hover)\n",
    "rollout!(prob);"
   ]
  },
  {
   "cell_type": "markdown",
   "metadata": {},
   "source": [
    "## Solving the Problem using ALTRO\n",
    "With our problem set up, can we solve it using any of the supported solvers. We'll use ALTRO:"
   ]
  },
  {
   "cell_type": "code",
   "execution_count": 25,
   "metadata": {},
   "outputs": [
    {
     "ename": "LoadError",
     "evalue": "\u001b[91mMethodError: no method matching cost_expansion!(::Objective{QuadraticCost{13,4,Float64,SizedArray{Tuple{13,13},Float64,2,2,Array{Float64,2}},SizedArray{Tuple{4,4},Float64,2,2,Array{Float64,2}}}}, ::Objective{DiagonalCost{13,4,Float64}}, ::Traj{13,4,Float64,RobotDynamics.GeneralKnotPoint{Float64,13,4,SArray{Tuple{17},Float64,1,17}}}, ::Bool, ::Bool)\u001b[39m\n\u001b[91m\u001b[0mClosest candidates are:\u001b[39m\n\u001b[91m\u001b[0m  cost_expansion!(::Any, ::Objective, ::Traj, ::Any; init, rezero) at /home/alvin/.julia/packages/TrajectoryOptimization/ZrvuZ/src/cost.jl:121\u001b[39m\n\u001b[91m\u001b[0m  cost_expansion!(::Objective{QuadraticCost{n,m,T,SizedArray{Tuple{n,n},T,2,2,Array{T,2}},SizedArray{Tuple{m,m},T,2,2,Array{T,2}}}} where T where m where n, \u001b[91m::Altro.ALObjective\u001b[39m, ::Traj, ::Bool, ::Bool) at /home/alvin/.julia/packages/Altro/ZbP1c/src/augmented_lagrangian/al_objective.jl:35\u001b[39m\n\u001b[91m\u001b[0m  cost_expansion!(::Any, ::Objective, ::Traj) at /home/alvin/.julia/packages/TrajectoryOptimization/ZrvuZ/src/cost.jl:121\u001b[39m\n\u001b[91m\u001b[0m  ...\u001b[39m",
     "output_type": "error",
     "traceback": [
      "\u001b[91mMethodError: no method matching cost_expansion!(::Objective{QuadraticCost{13,4,Float64,SizedArray{Tuple{13,13},Float64,2,2,Array{Float64,2}},SizedArray{Tuple{4,4},Float64,2,2,Array{Float64,2}}}}, ::Objective{DiagonalCost{13,4,Float64}}, ::Traj{13,4,Float64,RobotDynamics.GeneralKnotPoint{Float64,13,4,SArray{Tuple{17},Float64,1,17}}}, ::Bool, ::Bool)\u001b[39m\n\u001b[91m\u001b[0mClosest candidates are:\u001b[39m\n\u001b[91m\u001b[0m  cost_expansion!(::Any, ::Objective, ::Traj, ::Any; init, rezero) at /home/alvin/.julia/packages/TrajectoryOptimization/ZrvuZ/src/cost.jl:121\u001b[39m\n\u001b[91m\u001b[0m  cost_expansion!(::Objective{QuadraticCost{n,m,T,SizedArray{Tuple{n,n},T,2,2,Array{T,2}},SizedArray{Tuple{m,m},T,2,2,Array{T,2}}}} where T where m where n, \u001b[91m::Altro.ALObjective\u001b[39m, ::Traj, ::Bool, ::Bool) at /home/alvin/.julia/packages/Altro/ZbP1c/src/augmented_lagrangian/al_objective.jl:35\u001b[39m\n\u001b[91m\u001b[0m  cost_expansion!(::Any, ::Objective, ::Traj) at /home/alvin/.julia/packages/TrajectoryOptimization/ZrvuZ/src/cost.jl:121\u001b[39m\n\u001b[91m\u001b[0m  ...\u001b[39m",
      "",
      "Stacktrace:",
      " [1] cost_expansion!(::Objective{QuadraticCost{13,4,Float64,SizedArray{Tuple{13,13},Float64,2,2,Array{Float64,2}},SizedArray{Tuple{4,4},Float64,2,2,Array{Float64,2}}}}, ::Altro.ALObjective{Float64,Objective{DiagonalCost{13,4,Float64}}}, ::Traj{13,4,Float64,RobotDynamics.GeneralKnotPoint{Float64,13,4,SArray{Tuple{17},Float64,1,17}}}, ::Bool, ::Bool) at /home/alvin/.julia/packages/Altro/ZbP1c/src/augmented_lagrangian/al_objective.jl:40",
      " [2] macro expansion at /home/alvin/.julia/packages/TimerOutputs/4QAIk/src/TimerOutput.jl:206 [inlined]",
      " [3] step!(::Altro.iLQRSolver{Float64,RK3,Quadrotor{UnitQuaternion{Float64}},Altro.ALObjective{Float64,Objective{DiagonalCost{13,4,Float64}}},13,12,4,17}, ::Float64, ::Bool) at /home/alvin/.julia/packages/Altro/ZbP1c/src/ilqr/ilqr_solve.jl:89",
      " [4] solve!(::Altro.iLQRSolver{Float64,RK3,Quadrotor{UnitQuaternion{Float64}},Altro.ALObjective{Float64,Objective{DiagonalCost{13,4,Float64}}},13,12,4,17}) at /home/alvin/.julia/packages/Altro/ZbP1c/src/ilqr/ilqr_solve.jl:28",
      " [5] solve!(::Altro.AugmentedLagrangianSolver{Float64,Altro.iLQRSolver{Float64,RK3,Quadrotor{UnitQuaternion{Float64}},Altro.ALObjective{Float64,Objective{DiagonalCost{13,4,Float64}}},13,12,4,17}}) at /home/alvin/.julia/packages/Altro/ZbP1c/src/augmented_lagrangian/al_methods.jl:21",
      " [6] solve!(::ALTROSolver{Float64,Altro.iLQRSolver{Float64,RK3,Quadrotor{UnitQuaternion{Float64}},Altro.ALObjective{Float64,Objective{DiagonalCost{13,4,Float64}}},13,12,4,17}}) at /home/alvin/.julia/packages/Altro/ZbP1c/src/altro/altro_solver.jl:92",
      " [7] top-level scope at In[25]:8",
      " [8] include_string(::Function, ::Module, ::String, ::String) at ./loading.jl:1091"
     ]
    }
   ],
   "source": [
    "using Altro\n",
    "opts = SolverOptions(\n",
    "    penalty_scaling=100.,\n",
    "    penalty_initial=0.1,\n",
    ")\n",
    "\n",
    "solver = ALTROSolver(prob, opts);\n",
    "solve!(solver)\n",
    "# println(\"Cost: \", cost(solver))\n",
    "# println(\"Constraint violation: \", max_violation(solver))\n",
    "# println(\"Iterations: \", iterations(solver))"
   ]
  },
  {
   "cell_type": "markdown",
   "metadata": {},
   "source": [
    "## Visualizing the solution\n",
    "We can use `TrajOptPlots` to visualize the solution:"
   ]
  },
  {
   "cell_type": "code",
   "execution_count": 39,
   "metadata": {},
   "outputs": [
    {
     "name": "stderr",
     "output_type": "stream",
     "text": [
      "┌ Info: Precompiling Plots [91a5bcdd-55d7-5caf-9e0b-520d859cae80]\n",
      "└ @ Base loading.jl:1278\n",
      "┌ Info: MeshCat server started. You can open the visualizer by visiting the following URL in your browser:\n",
      "│ http://127.0.0.1:8700\n",
      "└ @ MeshCat /home/alvin/.julia/packages/MeshCat/GlCMx/src/visualizer.jl:73\n"
     ]
    },
    {
     "data": {
      "text/html": [
       "    <div style=\"height: 500px; width: 100%; overflow-x: auto; overflow-y: hidden; resize: both\">\n",
       "    <iframe src=\"http://127.0.0.1:8700\" style=\"width: 100%; height: 100%; border: none\"></iframe>\n",
       "    </div>\n"
      ],
      "text/plain": [
       "MeshCat.DisplayedVisualizer(MeshCat.CoreVisualizer(MeshCat.SceneTrees.SceneNode(nothing, nothing, Dict{String,Array{UInt8,1}}(), nothing, Dict{String,MeshCat.SceneTrees.SceneNode}()), Set{Any}(), ip\"127.0.0.1\", 8700))"
      ]
     },
     "execution_count": 39,
     "metadata": {},
     "output_type": "execute_result"
    }
   ],
   "source": [
    "using TrajOptPlots\n",
    "using MeshCat\n",
    "using Plots\n",
    "\n",
    "vis = Visualizer()\n",
    "render(vis)"
   ]
  },
  {
   "cell_type": "markdown",
   "metadata": {},
   "source": [
    "For the visualization, we use `MeshIO v0.3` and `FileIO` to load in a mesh file. For the visualization, we need to tell `TrajOptPlots` what geometry to display, which we do by defining the `_set_mesh!` method for our model. Since our model is a `RigidBody`, `TrajOptPlots` already knows how to display it once the robot geometry is defined."
   ]
  },
  {
   "cell_type": "code",
   "execution_count": 44,
   "metadata": {},
   "outputs": [
    {
     "data": {
      "text/plain": [
       "MeshCat Visualizer with path /meshcat/robot/geom at http://127.0.0.1:8700"
      ]
     },
     "execution_count": 44,
     "metadata": {},
     "output_type": "execute_result"
    }
   ],
   "source": [
    "using FileIO, MeshIO, TrajOptPlots\n",
    "function TrajOptPlots._set_mesh!(vis, model::Quadrotor)\n",
    "    obj = joinpath(@__DIR__, \"quadrotor.obj\")\n",
    "    quad_scaling = 0.085\n",
    "    robot_obj = FileIO.load(obj)\n",
    "    robot_obj *= quad_scaling\n",
    "    mat = MeshPhongMaterial(color=colorant\"black\")\n",
    "    setobject!(vis[\"geom\"], robot_obj, mat)\n",
    "end\n",
    "TrajOptPlots.set_mesh!(vis, model)"
   ]
  },
  {
   "cell_type": "code",
   "execution_count": 46,
   "metadata": {},
   "outputs": [],
   "source": [
    "visualize!(vis, solver);"
   ]
  },
  {
   "cell_type": "code",
   "execution_count": null,
   "metadata": {},
   "outputs": [],
   "source": []
  }
 ],
 "metadata": {
  "kernelspec": {
   "display_name": "Julia 1.5.3",
   "language": "julia",
   "name": "julia-1.5"
  },
  "language_info": {
   "file_extension": ".jl",
   "mimetype": "application/julia",
   "name": "julia",
   "version": "1.5.3"
  }
 },
 "nbformat": 4,
 "nbformat_minor": 2
}
