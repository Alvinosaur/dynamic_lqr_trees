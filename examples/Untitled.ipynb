{
 "cells": [
  {
   "cell_type": "code",
   "execution_count": 3,
   "metadata": {},
   "outputs": [],
   "source": [
    "using RobotDynamics, Rotations\n",
    "using TrajectoryOptimization\n",
    "using StaticArrays, LinearAlgebra"
   ]
  },
  {
   "cell_type": "code",
   "execution_count": 5,
   "metadata": {},
   "outputs": [],
   "source": [
    "\n",
    "\n",
    "struct Quadrotor{R} <: RigidBody{R}\n",
    "    n::Int\n",
    "    m::Int\n",
    "    mass::Float64\n",
    "    J::Diagonal{Float64,SVector{3,Float64}}\n",
    "    Jinv::Diagonal{Float64,SVector{3,Float64}}\n",
    "    gravity::SVector{3,Float64}\n",
    "    motor_dist::Float64\n",
    "    kf::Float64\n",
    "    km::Float64\n",
    "    bodyframe::Bool  # velocity in body frame?\n",
    "    info::Dict{Symbol,Any}\n",
    "end\n",
    "\n",
    "function Quadrotor{R}(;\n",
    "        mass=0.5,\n",
    "        J=Diagonal(@SVector [0.0023, 0.0023, 0.004]),\n",
    "        gravity=SVector(0,0,-9.81),\n",
    "        motor_dist=0.1750,\n",
    "        kf=1.0,\n",
    "        km=0.0245,\n",
    "        bodyframe=false,\n",
    "        info=Dict{Symbol,Any}()) where R\n",
    "    Quadrotor{R}(13,4,mass,J,inv(J),gravity,motor_dist,kf,km,bodyframe,info)\n",
    "end\n",
    "\n",
    "(::Type{Quadrotor})(;kwargs...) = Quadrotor{UnitQuaternion{Float64}}(;kwargs...)"
   ]
  },
  {
   "cell_type": "code",
   "execution_count": null,
   "metadata": {},
   "outputs": [],
   "source": [
    "# Define number of control inputs\n",
    "RobotDynamics.control_dim(::Quadrotor) = 4"
   ]
  },
  {
   "cell_type": "code",
   "execution_count": null,
   "metadata": {},
   "outputs": [],
   "source": []
  }
 ],
 "metadata": {
  "kernelspec": {
   "display_name": "Julia 1.5.3",
   "language": "julia",
   "name": "julia-1.5"
  },
  "language_info": {
   "file_extension": ".jl",
   "mimetype": "application/julia",
   "name": "julia",
   "version": "1.5.3"
  }
 },
 "nbformat": 4,
 "nbformat_minor": 4
}
